{
 "cells": [
  {
   "cell_type": "code",
   "execution_count": 2,
   "id": "fc776ec4-ac72-437b-a036-bbce06d2c37e",
   "metadata": {},
   "outputs": [
    {
     "name": "stdout",
     "output_type": "stream",
     "text": [
      "tensor([[0.4936, 0.8879, 0.1826],\n",
      "        [0.6718, 0.5688, 0.6550],\n",
      "        [0.3616, 0.9011, 0.2481],\n",
      "        [0.6939, 0.1539, 0.4829],\n",
      "        [0.1598, 0.4240, 0.3904]])\n"
     ]
    }
   ],
   "source": [
    "import torch\n",
    "import matplotlib as plt\n",
    "\n",
    "x = torch.rand(5, 3)\n",
    "print(x)"
   ]
  },
  {
   "cell_type": "code",
   "execution_count": null,
   "id": "32fc32cb-bc74-4974-9d74-d108658fa8f9",
   "metadata": {},
   "outputs": [],
   "source": []
  }
 ],
 "metadata": {
  "kernelspec": {
   "display_name": "Python 3 (ipykernel)",
   "language": "python",
   "name": "python3"
  },
  "language_info": {
   "codemirror_mode": {
    "name": "ipython",
    "version": 3
   },
   "file_extension": ".py",
   "mimetype": "text/x-python",
   "name": "python",
   "nbconvert_exporter": "python",
   "pygments_lexer": "ipython3",
   "version": "3.12.2"
  }
 },
 "nbformat": 4,
 "nbformat_minor": 5
}
